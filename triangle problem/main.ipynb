{
 "cells": [
  {
   "cell_type": "code",
   "execution_count": 5,
   "metadata": {},
   "outputs": [],
   "source": [
    "from manim import *"
   ]
  },
  {
   "cell_type": "markdown",
   "metadata": {},
   "source": [
    "# Triangle problem\n",
    "\n",
    "There are n-points on a circle. How many sets (s) of non-overlapping triangles can be made with this?"
   ]
  },
  {
   "cell_type": "markdown",
   "metadata": {},
   "source": [
    "**Trivial case n=3**\n",
    "\n",
    "For obvious reasons, n={1, 2}, s={0, 0}."
   ]
  },
  {
   "cell_type": "code",
   "execution_count": 6,
   "metadata": {},
   "outputs": [
    {
     "data": {
      "text/html": [
       "<pre style=\"white-space:pre;overflow-x:auto;line-height:normal;font-family:Menlo,'DejaVu Sans Mono',consolas,'Courier New',monospace\">Manim Community <span style=\"color: #008000; text-decoration-color: #008000\">v0.18.1</span>\n",
       "\n",
       "</pre>\n"
      ],
      "text/plain": [
       "Manim Community \u001b[32mv0.\u001b[0m\u001b[32m18.1\u001b[0m\n",
       "\n"
      ]
     },
     "metadata": {},
     "output_type": "display_data"
    },
    {
     "name": "stderr",
     "output_type": "stream",
     "text": [
      "                                                                     \r"
     ]
    },
    {
     "data": {
      "text/html": [
       "<video src=\"media/jupyter/n3case@2024-05-28@11-57-35.mp4\" controls autoplay loop style=\"max-width: 60%;\"  >\n",
       "      Your browser does not support the <code>video</code> element.\n",
       "    </video>"
      ],
      "text/plain": [
       "<IPython.core.display.Video object>"
      ]
     },
     "metadata": {},
     "output_type": "display_data"
    }
   ],
   "source": [
    "%%manim -v WARNING --jupyter n3case\n",
    "\n",
    "class n3case(Scene):\n",
    "    def construct(self):\n",
    "        circle = Circle()\n",
    "\n",
    "        dot1 = Dot(circle.point_at_angle(0))\n",
    "        dot2 = Dot(circle.point_at_angle(2*PI/3))\n",
    "        dot3 = Dot(circle.point_at_angle(4*PI/3))\n",
    "\n",
    "        triangle = Polygon(dot1.get_center(), dot2.get_center(), dot3.get_center())\n",
    "\n",
    "        self.play(Create(circle))\n",
    "        self.play(Create(dot1), Create(dot2), Create(dot3))\n",
    "        self.play(Create(triangle))\n",
    "        # pause\n",
    "        self.wait(5)"
   ]
  },
  {
   "cell_type": "markdown",
   "metadata": {},
   "source": [
    "**n=4 case** \n",
    "\n",
    "So with this case, there are two due to chirality:"
   ]
  },
  {
   "cell_type": "code",
   "execution_count": 7,
   "metadata": {},
   "outputs": [
    {
     "data": {
      "text/html": [
       "<pre style=\"white-space:pre;overflow-x:auto;line-height:normal;font-family:Menlo,'DejaVu Sans Mono',consolas,'Courier New',monospace\">Manim Community <span style=\"color: #008000; text-decoration-color: #008000\">v0.18.1</span>\n",
       "\n",
       "</pre>\n"
      ],
      "text/plain": [
       "Manim Community \u001b[32mv0.\u001b[0m\u001b[32m18.1\u001b[0m\n",
       "\n"
      ]
     },
     "metadata": {},
     "output_type": "display_data"
    },
    {
     "name": "stderr",
     "output_type": "stream",
     "text": [
      "                                                                      \r"
     ]
    },
    {
     "data": {
      "text/html": [
       "<video src=\"media/jupyter/n4case@2024-05-28@11-57-35.mp4\" controls autoplay loop style=\"max-width: 60%;\"  >\n",
       "      Your browser does not support the <code>video</code> element.\n",
       "    </video>"
      ],
      "text/plain": [
       "<IPython.core.display.Video object>"
      ]
     },
     "metadata": {},
     "output_type": "display_data"
    }
   ],
   "source": [
    "%%manim -v WARNING --jupyter n4case\n",
    "\n",
    "class n4case(Scene):\n",
    "    def construct(self):\n",
    "        circle = Circle()\n",
    "\n",
    "        dot1 = Dot(circle.point_at_angle(0+PI/4))\n",
    "        dot2 = Dot(circle.point_at_angle(PI/2+PI/4))\n",
    "        dot3 = Dot(circle.point_at_angle(PI+PI/4))\n",
    "        dot4 = Dot(circle.point_at_angle(3*PI/2+PI/4))\n",
    "        \n",
    "        triangle1 = Polygon(dot1.get_center(), dot2.get_center(), dot3.get_center())\n",
    "        triangle2 = Polygon(dot4.get_center(), dot2.get_center(), dot3.get_center() )\n",
    "\n",
    "        self.play(Create(circle))\n",
    "        self.play(Create(dot1), Create(dot2), Create(dot3), Create(dot4))\n",
    "        self.play(Create(triangle1))\n",
    "        self.wait(2)\n",
    "        self.play(Transform(triangle1, triangle2))\n",
    "        # pause\n",
    "        self.wait(5)\n",
    "        "
   ]
  },
  {
   "cell_type": "markdown",
   "metadata": {},
   "source": [
    "However as the cases get more complex....\n",
    "\n",
    "**Case n=7**\n"
   ]
  },
  {
   "cell_type": "code",
   "execution_count": 8,
   "metadata": {},
   "outputs": [
    {
     "data": {
      "text/html": [
       "<pre style=\"white-space:pre;overflow-x:auto;line-height:normal;font-family:Menlo,'DejaVu Sans Mono',consolas,'Courier New',monospace\">Manim Community <span style=\"color: #008000; text-decoration-color: #008000\">v0.18.1</span>\n",
       "\n",
       "</pre>\n"
      ],
      "text/plain": [
       "Manim Community \u001b[32mv0.\u001b[0m\u001b[32m18.1\u001b[0m\n",
       "\n"
      ]
     },
     "metadata": {},
     "output_type": "display_data"
    },
    {
     "name": "stderr",
     "output_type": "stream",
     "text": [
      "                                                                                  \r"
     ]
    },
    {
     "data": {
      "text/html": [
       "<video src=\"media/jupyter/n7case@2024-05-28@11-57-35.mp4\" controls autoplay loop style=\"max-width: 60%;\"  >\n",
       "      Your browser does not support the <code>video</code> element.\n",
       "    </video>"
      ],
      "text/plain": [
       "<IPython.core.display.Video object>"
      ]
     },
     "metadata": {},
     "output_type": "display_data"
    }
   ],
   "source": [
    "%%manim -v WARNING --jupyter n7case\n",
    "\n",
    "class n7case(Scene):\n",
    "    def construct(self):\n",
    "        circle = Circle()\n",
    "        dot1 = Dot(circle.point_at_angle(0))\n",
    "        dot2 = Dot(circle.point_at_angle(2*PI/7))\n",
    "        dot3 = Dot(circle.point_at_angle(4*PI/7))\n",
    "        dot4 = Dot(circle.point_at_angle(6*PI/7))\n",
    "        dot5 = Dot(circle.point_at_angle(8*PI/7))\n",
    "        dot6 = Dot(circle.point_at_angle(10*PI/7))\n",
    "        dot7 = Dot(circle.point_at_angle(12*PI/7))\n",
    "\n",
    "        # text_1 = Text(\"we can have one triangle\").next_to(circle, UP)\n",
    "        triangle1 = Polygon(dot1.get_center(), dot2.get_center(), dot3.get_center())\n",
    "        triangle2 = Polygon(dot1.get_center(), dot2.get_center(), dot4.get_center())\n",
    "        triangle3 = Polygon(dot1.get_center(), dot2.get_center(), dot5.get_center())\n",
    "        triangle4 = Polygon(dot1.get_center(), dot2.get_center(), dot6.get_center())\n",
    "        triangle5 = Polygon(dot1.get_center(), dot2.get_center(), dot7.get_center())\n",
    "\n",
    "        # text_2 = Text(\"or two triangles\").next_to(circle, UP)\n",
    "        triangle6 = Polygon(dot1.get_center(), dot2.get_center(), dot3.get_center())\n",
    "        triangle7 = Polygon(dot4.get_center(), dot5.get_center(), dot6.get_center())\n",
    "        triangle8 = Polygon(dot1.get_center(), dot2.get_center(), dot7.get_center())\n",
    "        triangle9 = Polygon(dot1.get_center(), dot3.get_center(), dot7.get_center())\n",
    "        triangle10 = Polygon(dot2.get_center(), dot3.get_center(), dot7.get_center())\n",
    "\n",
    "        self.play(Create(circle))\n",
    "        self.play(Create(dot1), Create(dot2), Create(dot3), Create(dot4), Create(dot5), Create(dot6), Create(dot7))\n",
    "        # self.play(Create(text_1))\n",
    "        self.play(Create(triangle1))\n",
    "        self.play(ReplacementTransform(triangle1, triangle2))\n",
    "        self.play(ReplacementTransform(triangle2, triangle3))\n",
    "        self.play(ReplacementTransform(triangle3, triangle4))\n",
    "        self.play(ReplacementTransform(triangle4, triangle5))\n",
    "        self.wait(2)\n",
    "        # self.play(Transform(text_1, text_2))\n",
    "        self.play(FadeOut(triangle5))\n",
    "        self.wait(2)\n",
    "        self.play(Create(triangle6), Create(triangle7))\n",
    "        self.play(ReplacementTransform(triangle6, triangle8))\n",
    "        self.play(ReplacementTransform(triangle8, triangle9))\n",
    "        self.play(ReplacementTransform(triangle9, triangle10))\n",
    "        \n",
    "        # pause\n",
    "        self.wait(5)"
   ]
  },
  {
   "cell_type": "markdown",
   "metadata": {},
   "source": [
    "So what is the generalised case...?"
   ]
  }
 ],
 "metadata": {
  "kernelspec": {
   "display_name": ".venv",
   "language": "python",
   "name": "python3"
  },
  "language_info": {
   "codemirror_mode": {
    "name": "ipython",
    "version": 3
   },
   "file_extension": ".py",
   "mimetype": "text/x-python",
   "name": "python",
   "nbconvert_exporter": "python",
   "pygments_lexer": "ipython3",
   "version": "3.12.3"
  }
 },
 "nbformat": 4,
 "nbformat_minor": 2
}
